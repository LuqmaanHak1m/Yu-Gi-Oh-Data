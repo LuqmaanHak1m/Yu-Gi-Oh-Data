{
 "cells": [
  {
   "cell_type": "markdown",
   "id": "d5f53d79",
   "metadata": {},
   "source": [
    "# Yu-Gi-Oh Data loading"
   ]
  },
  {
   "cell_type": "code",
   "execution_count": 45,
   "id": "b10a28c8",
   "metadata": {},
   "outputs": [],
   "source": [
    "import pandas as pd\n",
    "import requests\n",
    "import json"
   ]
  },
  {
   "cell_type": "code",
   "execution_count": 46,
   "id": "7affaeae",
   "metadata": {},
   "outputs": [],
   "source": [
    "response = requests.api.get(\"https://db.ygoprodeck.com/api/v7/cardinfo.php\")"
   ]
  },
  {
   "cell_type": "code",
   "execution_count": 47,
   "id": "5a413a65",
   "metadata": {},
   "outputs": [
    {
     "data": {
      "text/plain": [
       "200"
      ]
     },
     "execution_count": 47,
     "metadata": {},
     "output_type": "execute_result"
    }
   ],
   "source": [
    "response.status_code"
   ]
  },
  {
   "cell_type": "code",
   "execution_count": 48,
   "id": "4dae7bb4",
   "metadata": {},
   "outputs": [],
   "source": [
    "with open(\"allCardData.json\", \"w\") as f:\n",
    "    json.dump(response.json(), f, indent=4) "
   ]
  },
  {
   "cell_type": "code",
   "execution_count": null,
   "id": "1581352b",
   "metadata": {},
   "outputs": [],
   "source": [
    "with open(\"allCardData.json\") as f:\n",
    "    raw = json.load(f)\n",
    "\n",
    "card_data = raw[\"data\"]\n",
    "\n",
    "df = pd.DataFrame(card_data)"
   ]
  },
  {
   "cell_type": "code",
   "execution_count": 194,
   "id": "7352e64e",
   "metadata": {},
   "outputs": [
    {
     "data": {
      "text/html": [
       "<div>\n",
       "<style scoped>\n",
       "    .dataframe tbody tr th:only-of-type {\n",
       "        vertical-align: middle;\n",
       "    }\n",
       "\n",
       "    .dataframe tbody tr th {\n",
       "        vertical-align: top;\n",
       "    }\n",
       "\n",
       "    .dataframe thead th {\n",
       "        text-align: right;\n",
       "    }\n",
       "</style>\n",
       "<table border=\"1\" class=\"dataframe\">\n",
       "  <thead>\n",
       "    <tr style=\"text-align: right;\">\n",
       "      <th></th>\n",
       "      <th>id</th>\n",
       "      <th>name</th>\n",
       "      <th>type</th>\n",
       "      <th>humanReadableCardType</th>\n",
       "      <th>frameType</th>\n",
       "      <th>desc</th>\n",
       "      <th>race</th>\n",
       "      <th>archetype</th>\n",
       "      <th>card_prices</th>\n",
       "      <th>typeline</th>\n",
       "      <th>atk</th>\n",
       "      <th>def</th>\n",
       "      <th>level</th>\n",
       "      <th>attribute</th>\n",
       "      <th>linkval</th>\n",
       "      <th>linkmarkers</th>\n",
       "      <th>pend_desc</th>\n",
       "      <th>monster_desc</th>\n",
       "      <th>scale</th>\n",
       "    </tr>\n",
       "  </thead>\n",
       "  <tbody>\n",
       "    <tr>\n",
       "      <th>0</th>\n",
       "      <td>34541863</td>\n",
       "      <td>\"A\" Cell Breeding Device</td>\n",
       "      <td>Spell Card</td>\n",
       "      <td>Continuous Spell</td>\n",
       "      <td>spell</td>\n",
       "      <td>During each of your Standby Phases, put 1 A-Co...</td>\n",
       "      <td>Continuous</td>\n",
       "      <td>Alien</td>\n",
       "      <td>[{'cardmarket_price': '0.15', 'tcgplayer_price...</td>\n",
       "      <td>NaN</td>\n",
       "      <td>NaN</td>\n",
       "      <td>NaN</td>\n",
       "      <td>NaN</td>\n",
       "      <td>NaN</td>\n",
       "      <td>NaN</td>\n",
       "      <td>NaN</td>\n",
       "      <td>NaN</td>\n",
       "      <td>NaN</td>\n",
       "      <td>NaN</td>\n",
       "    </tr>\n",
       "    <tr>\n",
       "      <th>1</th>\n",
       "      <td>64163367</td>\n",
       "      <td>\"A\" Cell Incubator</td>\n",
       "      <td>Spell Card</td>\n",
       "      <td>Continuous Spell</td>\n",
       "      <td>spell</td>\n",
       "      <td>Each time an A-Counter(s) is removed from play...</td>\n",
       "      <td>Continuous</td>\n",
       "      <td>Alien</td>\n",
       "      <td>[{'cardmarket_price': '0.13', 'tcgplayer_price...</td>\n",
       "      <td>NaN</td>\n",
       "      <td>NaN</td>\n",
       "      <td>NaN</td>\n",
       "      <td>NaN</td>\n",
       "      <td>NaN</td>\n",
       "      <td>NaN</td>\n",
       "      <td>NaN</td>\n",
       "      <td>NaN</td>\n",
       "      <td>NaN</td>\n",
       "      <td>NaN</td>\n",
       "    </tr>\n",
       "    <tr>\n",
       "      <th>2</th>\n",
       "      <td>91231901</td>\n",
       "      <td>\"A\" Cell Recombination Device</td>\n",
       "      <td>Spell Card</td>\n",
       "      <td>Quick-Play Spell</td>\n",
       "      <td>spell</td>\n",
       "      <td>Target 1 face-up monster on the field; send 1 ...</td>\n",
       "      <td>Quick-Play</td>\n",
       "      <td>Alien</td>\n",
       "      <td>[{'cardmarket_price': '0.08', 'tcgplayer_price...</td>\n",
       "      <td>NaN</td>\n",
       "      <td>NaN</td>\n",
       "      <td>NaN</td>\n",
       "      <td>NaN</td>\n",
       "      <td>NaN</td>\n",
       "      <td>NaN</td>\n",
       "      <td>NaN</td>\n",
       "      <td>NaN</td>\n",
       "      <td>NaN</td>\n",
       "      <td>NaN</td>\n",
       "    </tr>\n",
       "    <tr>\n",
       "      <th>3</th>\n",
       "      <td>73262676</td>\n",
       "      <td>\"A\" Cell Scatter Burst</td>\n",
       "      <td>Spell Card</td>\n",
       "      <td>Quick-Play Spell</td>\n",
       "      <td>spell</td>\n",
       "      <td>Select 1 face-up \"Alien\" monster you control. ...</td>\n",
       "      <td>Quick-Play</td>\n",
       "      <td>Alien</td>\n",
       "      <td>[{'cardmarket_price': '0.06', 'tcgplayer_price...</td>\n",
       "      <td>NaN</td>\n",
       "      <td>NaN</td>\n",
       "      <td>NaN</td>\n",
       "      <td>NaN</td>\n",
       "      <td>NaN</td>\n",
       "      <td>NaN</td>\n",
       "      <td>NaN</td>\n",
       "      <td>NaN</td>\n",
       "      <td>NaN</td>\n",
       "      <td>NaN</td>\n",
       "    </tr>\n",
       "    <tr>\n",
       "      <th>4</th>\n",
       "      <td>80181649</td>\n",
       "      <td>\"Case of K9\"</td>\n",
       "      <td>Spell Card</td>\n",
       "      <td>Continuous Spell</td>\n",
       "      <td>spell</td>\n",
       "      <td>When this card is activated: You can add 1 \"K9...</td>\n",
       "      <td>Continuous</td>\n",
       "      <td>K9</td>\n",
       "      <td>[{'cardmarket_price': '1.13', 'tcgplayer_price...</td>\n",
       "      <td>NaN</td>\n",
       "      <td>NaN</td>\n",
       "      <td>NaN</td>\n",
       "      <td>NaN</td>\n",
       "      <td>NaN</td>\n",
       "      <td>NaN</td>\n",
       "      <td>NaN</td>\n",
       "      <td>NaN</td>\n",
       "      <td>NaN</td>\n",
       "      <td>NaN</td>\n",
       "    </tr>\n",
       "  </tbody>\n",
       "</table>\n",
       "</div>"
      ],
      "text/plain": [
       "         id                           name        type humanReadableCardType  \\\n",
       "0  34541863       \"A\" Cell Breeding Device  Spell Card      Continuous Spell   \n",
       "1  64163367             \"A\" Cell Incubator  Spell Card      Continuous Spell   \n",
       "2  91231901  \"A\" Cell Recombination Device  Spell Card      Quick-Play Spell   \n",
       "3  73262676         \"A\" Cell Scatter Burst  Spell Card      Quick-Play Spell   \n",
       "4  80181649                   \"Case of K9\"  Spell Card      Continuous Spell   \n",
       "\n",
       "  frameType                                               desc        race  \\\n",
       "0     spell  During each of your Standby Phases, put 1 A-Co...  Continuous   \n",
       "1     spell  Each time an A-Counter(s) is removed from play...  Continuous   \n",
       "2     spell  Target 1 face-up monster on the field; send 1 ...  Quick-Play   \n",
       "3     spell  Select 1 face-up \"Alien\" monster you control. ...  Quick-Play   \n",
       "4     spell  When this card is activated: You can add 1 \"K9...  Continuous   \n",
       "\n",
       "  archetype                                        card_prices typeline  atk  \\\n",
       "0     Alien  [{'cardmarket_price': '0.15', 'tcgplayer_price...      NaN  NaN   \n",
       "1     Alien  [{'cardmarket_price': '0.13', 'tcgplayer_price...      NaN  NaN   \n",
       "2     Alien  [{'cardmarket_price': '0.08', 'tcgplayer_price...      NaN  NaN   \n",
       "3     Alien  [{'cardmarket_price': '0.06', 'tcgplayer_price...      NaN  NaN   \n",
       "4        K9  [{'cardmarket_price': '1.13', 'tcgplayer_price...      NaN  NaN   \n",
       "\n",
       "   def  level attribute  linkval linkmarkers pend_desc monster_desc  scale  \n",
       "0  NaN    NaN       NaN      NaN         NaN       NaN          NaN    NaN  \n",
       "1  NaN    NaN       NaN      NaN         NaN       NaN          NaN    NaN  \n",
       "2  NaN    NaN       NaN      NaN         NaN       NaN          NaN    NaN  \n",
       "3  NaN    NaN       NaN      NaN         NaN       NaN          NaN    NaN  \n",
       "4  NaN    NaN       NaN      NaN         NaN       NaN          NaN    NaN  "
      ]
     },
     "execution_count": 194,
     "metadata": {},
     "output_type": "execute_result"
    }
   ],
   "source": [
    "df.drop(columns=[\"ygoprodeck_url\", \"card_sets\", \"card_images\", \"banlist_info\"], inplace=True, errors='ignore')\n",
    "df.head()"
   ]
  },
  {
   "cell_type": "code",
   "execution_count": 195,
   "id": "8eb998d9",
   "metadata": {},
   "outputs": [],
   "source": [
    "df['price_dict'] = df['card_prices'].apply(lambda x: x[0] if isinstance(x, list) and x else {})\n",
    "\n",
    "prices_df = pd.json_normalize(df['price_dict'])\n",
    "\n",
    "df = pd.concat([df.drop(columns=['card_prices', 'price_dict']), prices_df], axis=1)\n",
    "\n",
    "price_cols = prices_df.columns\n",
    "df[price_cols] = df[price_cols].astype(float)"
   ]
  },
  {
   "cell_type": "code",
   "execution_count": 196,
   "id": "efecd0e4",
   "metadata": {},
   "outputs": [
    {
     "data": {
      "text/html": [
       "<div>\n",
       "<style scoped>\n",
       "    .dataframe tbody tr th:only-of-type {\n",
       "        vertical-align: middle;\n",
       "    }\n",
       "\n",
       "    .dataframe tbody tr th {\n",
       "        vertical-align: top;\n",
       "    }\n",
       "\n",
       "    .dataframe thead th {\n",
       "        text-align: right;\n",
       "    }\n",
       "</style>\n",
       "<table border=\"1\" class=\"dataframe\">\n",
       "  <thead>\n",
       "    <tr style=\"text-align: right;\">\n",
       "      <th></th>\n",
       "      <th>id</th>\n",
       "      <th>name</th>\n",
       "      <th>type</th>\n",
       "      <th>humanReadableCardType</th>\n",
       "      <th>frameType</th>\n",
       "      <th>desc</th>\n",
       "      <th>race</th>\n",
       "      <th>archetype</th>\n",
       "      <th>typeline</th>\n",
       "      <th>atk</th>\n",
       "      <th>...</th>\n",
       "      <th>linkval</th>\n",
       "      <th>linkmarkers</th>\n",
       "      <th>pend_desc</th>\n",
       "      <th>monster_desc</th>\n",
       "      <th>scale</th>\n",
       "      <th>cardmarket_price</th>\n",
       "      <th>tcgplayer_price</th>\n",
       "      <th>ebay_price</th>\n",
       "      <th>amazon_price</th>\n",
       "      <th>coolstuffinc_price</th>\n",
       "    </tr>\n",
       "  </thead>\n",
       "  <tbody>\n",
       "    <tr>\n",
       "      <th>0</th>\n",
       "      <td>34541863</td>\n",
       "      <td>\"A\" Cell Breeding Device</td>\n",
       "      <td>Spell Card</td>\n",
       "      <td>Continuous Spell</td>\n",
       "      <td>spell</td>\n",
       "      <td>During each of your Standby Phases, put 1 A-Co...</td>\n",
       "      <td>Continuous</td>\n",
       "      <td>Alien</td>\n",
       "      <td>NaN</td>\n",
       "      <td>NaN</td>\n",
       "      <td>...</td>\n",
       "      <td>NaN</td>\n",
       "      <td>NaN</td>\n",
       "      <td>NaN</td>\n",
       "      <td>NaN</td>\n",
       "      <td>NaN</td>\n",
       "      <td>0.15</td>\n",
       "      <td>0.23</td>\n",
       "      <td>0.99</td>\n",
       "      <td>24.45</td>\n",
       "      <td>0.25</td>\n",
       "    </tr>\n",
       "    <tr>\n",
       "      <th>1</th>\n",
       "      <td>64163367</td>\n",
       "      <td>\"A\" Cell Incubator</td>\n",
       "      <td>Spell Card</td>\n",
       "      <td>Continuous Spell</td>\n",
       "      <td>spell</td>\n",
       "      <td>Each time an A-Counter(s) is removed from play...</td>\n",
       "      <td>Continuous</td>\n",
       "      <td>Alien</td>\n",
       "      <td>NaN</td>\n",
       "      <td>NaN</td>\n",
       "      <td>...</td>\n",
       "      <td>NaN</td>\n",
       "      <td>NaN</td>\n",
       "      <td>NaN</td>\n",
       "      <td>NaN</td>\n",
       "      <td>NaN</td>\n",
       "      <td>0.13</td>\n",
       "      <td>0.23</td>\n",
       "      <td>1.25</td>\n",
       "      <td>0.50</td>\n",
       "      <td>0.25</td>\n",
       "    </tr>\n",
       "    <tr>\n",
       "      <th>2</th>\n",
       "      <td>91231901</td>\n",
       "      <td>\"A\" Cell Recombination Device</td>\n",
       "      <td>Spell Card</td>\n",
       "      <td>Quick-Play Spell</td>\n",
       "      <td>spell</td>\n",
       "      <td>Target 1 face-up monster on the field; send 1 ...</td>\n",
       "      <td>Quick-Play</td>\n",
       "      <td>Alien</td>\n",
       "      <td>NaN</td>\n",
       "      <td>NaN</td>\n",
       "      <td>...</td>\n",
       "      <td>NaN</td>\n",
       "      <td>NaN</td>\n",
       "      <td>NaN</td>\n",
       "      <td>NaN</td>\n",
       "      <td>NaN</td>\n",
       "      <td>0.08</td>\n",
       "      <td>0.26</td>\n",
       "      <td>0.99</td>\n",
       "      <td>0.50</td>\n",
       "      <td>0.49</td>\n",
       "    </tr>\n",
       "    <tr>\n",
       "      <th>3</th>\n",
       "      <td>73262676</td>\n",
       "      <td>\"A\" Cell Scatter Burst</td>\n",
       "      <td>Spell Card</td>\n",
       "      <td>Quick-Play Spell</td>\n",
       "      <td>spell</td>\n",
       "      <td>Select 1 face-up \"Alien\" monster you control. ...</td>\n",
       "      <td>Quick-Play</td>\n",
       "      <td>Alien</td>\n",
       "      <td>NaN</td>\n",
       "      <td>NaN</td>\n",
       "      <td>...</td>\n",
       "      <td>NaN</td>\n",
       "      <td>NaN</td>\n",
       "      <td>NaN</td>\n",
       "      <td>NaN</td>\n",
       "      <td>NaN</td>\n",
       "      <td>0.06</td>\n",
       "      <td>0.15</td>\n",
       "      <td>2.00</td>\n",
       "      <td>9.76</td>\n",
       "      <td>0.25</td>\n",
       "    </tr>\n",
       "    <tr>\n",
       "      <th>4</th>\n",
       "      <td>80181649</td>\n",
       "      <td>\"Case of K9\"</td>\n",
       "      <td>Spell Card</td>\n",
       "      <td>Continuous Spell</td>\n",
       "      <td>spell</td>\n",
       "      <td>When this card is activated: You can add 1 \"K9...</td>\n",
       "      <td>Continuous</td>\n",
       "      <td>K9</td>\n",
       "      <td>NaN</td>\n",
       "      <td>NaN</td>\n",
       "      <td>...</td>\n",
       "      <td>NaN</td>\n",
       "      <td>NaN</td>\n",
       "      <td>NaN</td>\n",
       "      <td>NaN</td>\n",
       "      <td>NaN</td>\n",
       "      <td>1.13</td>\n",
       "      <td>0.00</td>\n",
       "      <td>0.00</td>\n",
       "      <td>0.00</td>\n",
       "      <td>0.00</td>\n",
       "    </tr>\n",
       "  </tbody>\n",
       "</table>\n",
       "<p>5 rows × 23 columns</p>\n",
       "</div>"
      ],
      "text/plain": [
       "         id                           name        type humanReadableCardType  \\\n",
       "0  34541863       \"A\" Cell Breeding Device  Spell Card      Continuous Spell   \n",
       "1  64163367             \"A\" Cell Incubator  Spell Card      Continuous Spell   \n",
       "2  91231901  \"A\" Cell Recombination Device  Spell Card      Quick-Play Spell   \n",
       "3  73262676         \"A\" Cell Scatter Burst  Spell Card      Quick-Play Spell   \n",
       "4  80181649                   \"Case of K9\"  Spell Card      Continuous Spell   \n",
       "\n",
       "  frameType                                               desc        race  \\\n",
       "0     spell  During each of your Standby Phases, put 1 A-Co...  Continuous   \n",
       "1     spell  Each time an A-Counter(s) is removed from play...  Continuous   \n",
       "2     spell  Target 1 face-up monster on the field; send 1 ...  Quick-Play   \n",
       "3     spell  Select 1 face-up \"Alien\" monster you control. ...  Quick-Play   \n",
       "4     spell  When this card is activated: You can add 1 \"K9...  Continuous   \n",
       "\n",
       "  archetype typeline  atk  ...  linkval  linkmarkers pend_desc  monster_desc  \\\n",
       "0     Alien      NaN  NaN  ...      NaN          NaN       NaN           NaN   \n",
       "1     Alien      NaN  NaN  ...      NaN          NaN       NaN           NaN   \n",
       "2     Alien      NaN  NaN  ...      NaN          NaN       NaN           NaN   \n",
       "3     Alien      NaN  NaN  ...      NaN          NaN       NaN           NaN   \n",
       "4        K9      NaN  NaN  ...      NaN          NaN       NaN           NaN   \n",
       "\n",
       "  scale cardmarket_price tcgplayer_price  ebay_price  amazon_price  \\\n",
       "0   NaN             0.15            0.23        0.99         24.45   \n",
       "1   NaN             0.13            0.23        1.25          0.50   \n",
       "2   NaN             0.08            0.26        0.99          0.50   \n",
       "3   NaN             0.06            0.15        2.00          9.76   \n",
       "4   NaN             1.13            0.00        0.00          0.00   \n",
       "\n",
       "   coolstuffinc_price  \n",
       "0                0.25  \n",
       "1                0.25  \n",
       "2                0.49  \n",
       "3                0.25  \n",
       "4                0.00  \n",
       "\n",
       "[5 rows x 23 columns]"
      ]
     },
     "execution_count": 196,
     "metadata": {},
     "output_type": "execute_result"
    }
   ],
   "source": [
    "df.head()"
   ]
  },
  {
   "cell_type": "code",
   "execution_count": 197,
   "id": "72d94b16",
   "metadata": {},
   "outputs": [],
   "source": [
    "df_spell_cards = df[df[\"type\"] == \"Spell Card\"].copy()\n",
    "df_spell_cards.drop(columns=[\"atk\", \"def\", \"level\", \"race\", \"attribute\"], inplace=True, errors='ignore')"
   ]
  },
  {
   "cell_type": "code",
   "execution_count": 198,
   "id": "3e931564",
   "metadata": {},
   "outputs": [],
   "source": [
    "df_trap_cards = df[df[\"type\"] == \"Trap Card\"].copy()\n",
    "df_trap_cards.drop(columns=[\"atk\", \"def\", \"level\", \"race\", \"attribute\"], inplace=True, errors='ignore')"
   ]
  },
  {
   "cell_type": "code",
   "execution_count": 199,
   "id": "6952db26",
   "metadata": {},
   "outputs": [],
   "source": [
    "df_monster_cards = df[(df[\"type\"] != \"Spell Card\") & (df[\"type\"] != \"Trap Card\")].copy()"
   ]
  },
  {
   "cell_type": "markdown",
   "id": "aa585d26",
   "metadata": {},
   "source": [
    "### Checking that we have the same number of cards in the tables"
   ]
  },
  {
   "cell_type": "code",
   "execution_count": 200,
   "id": "a96ab1f0",
   "metadata": {},
   "outputs": [
    {
     "data": {
      "text/plain": [
       "13787"
      ]
     },
     "execution_count": 200,
     "metadata": {},
     "output_type": "execute_result"
    }
   ],
   "source": [
    "df_spell_cards.shape[0] + df_monster_cards.shape[0] + df_trap_cards.shape[0]"
   ]
  },
  {
   "cell_type": "code",
   "execution_count": 201,
   "id": "99ea5bf1",
   "metadata": {},
   "outputs": [
    {
     "data": {
      "text/plain": [
       "13787"
      ]
     },
     "execution_count": 201,
     "metadata": {},
     "output_type": "execute_result"
    }
   ],
   "source": [
    "df.shape[0]"
   ]
  },
  {
   "cell_type": "markdown",
   "id": "5c520b8e",
   "metadata": {},
   "source": [
    "### Checking if any columns are always NaN so they can be removed"
   ]
  },
  {
   "cell_type": "code",
   "execution_count": 202,
   "id": "7c4ad069",
   "metadata": {},
   "outputs": [
    {
     "data": {
      "text/plain": [
       "id                       False\n",
       "name                     False\n",
       "type                     False\n",
       "humanReadableCardType    False\n",
       "frameType                False\n",
       "desc                     False\n",
       "race                     False\n",
       "archetype                False\n",
       "typeline                 False\n",
       "atk                      False\n",
       "def                      False\n",
       "level                    False\n",
       "attribute                False\n",
       "linkval                  False\n",
       "linkmarkers              False\n",
       "pend_desc                False\n",
       "monster_desc             False\n",
       "scale                    False\n",
       "cardmarket_price         False\n",
       "tcgplayer_price          False\n",
       "ebay_price               False\n",
       "amazon_price             False\n",
       "coolstuffinc_price       False\n",
       "dtype: bool"
      ]
     },
     "execution_count": 202,
     "metadata": {},
     "output_type": "execute_result"
    }
   ],
   "source": [
    "df_monster_cards.isna().all()"
   ]
  },
  {
   "cell_type": "code",
   "execution_count": 203,
   "id": "55c67d77",
   "metadata": {},
   "outputs": [
    {
     "data": {
      "text/plain": [
       "id                       False\n",
       "name                     False\n",
       "type                     False\n",
       "humanReadableCardType    False\n",
       "frameType                False\n",
       "desc                     False\n",
       "archetype                False\n",
       "typeline                  True\n",
       "linkval                   True\n",
       "linkmarkers               True\n",
       "pend_desc                 True\n",
       "monster_desc              True\n",
       "scale                     True\n",
       "cardmarket_price         False\n",
       "tcgplayer_price          False\n",
       "ebay_price               False\n",
       "amazon_price             False\n",
       "coolstuffinc_price       False\n",
       "dtype: bool"
      ]
     },
     "execution_count": 203,
     "metadata": {},
     "output_type": "execute_result"
    }
   ],
   "source": [
    "df_spell_cards.isna().all()"
   ]
  },
  {
   "cell_type": "markdown",
   "id": "7a37d632",
   "metadata": {},
   "source": [
    "#### Spell and Trap cards are the same in this regard and so both have these columns dropped"
   ]
  },
  {
   "cell_type": "code",
   "execution_count": 204,
   "id": "5b975805",
   "metadata": {},
   "outputs": [],
   "source": [
    "df_spell_cards.drop(columns=[\"typeline\",\"linkval\", \"linkmarkers\", \"pend_desc\", \"monster_desc\", \"scale\"], inplace=True, errors='ignore')\n",
    "df_trap_cards.drop(columns=[\"typeline\",\"linkval\", \"linkmarkers\", \"pend_desc\", \"monster_desc\", \"scale\"], inplace=True, errors='ignore')"
   ]
  },
  {
   "cell_type": "markdown",
   "id": "f03de98d",
   "metadata": {},
   "source": [
    "## Dataframe to CSV"
   ]
  },
  {
   "cell_type": "code",
   "execution_count": 209,
   "id": "70e28f61",
   "metadata": {},
   "outputs": [],
   "source": [
    "df_monster_cards.to_csv(\"Monster_Cards.csv\", index=False)\n",
    "df_spell_cards.to_csv(\"Spell_Cards.csv\", index=False)\n",
    "df_trap_cards.to_csv(\"Trap_Cards.csv\", index=False)"
   ]
  }
 ],
 "metadata": {
  "kernelspec": {
   "display_name": "Python 3",
   "language": "python",
   "name": "python3"
  },
  "language_info": {
   "codemirror_mode": {
    "name": "ipython",
    "version": 3
   },
   "file_extension": ".py",
   "mimetype": "text/x-python",
   "name": "python",
   "nbconvert_exporter": "python",
   "pygments_lexer": "ipython3",
   "version": "3.12.4"
  }
 },
 "nbformat": 4,
 "nbformat_minor": 5
}
